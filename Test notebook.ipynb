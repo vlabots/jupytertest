{
    "cells": [
        {
            "cell_type": "markdown",
            "metadata": {
                "collapsed": true
            },
            "source": "# My Jupyter Notebook on IBM Watson Studio"
        },
        {
            "cell_type": "markdown",
            "metadata": {},
            "source": "**Vladimir Bodrug**\n\nSoftware engineer"
        },
        {
            "cell_type": "markdown",
            "metadata": {},
            "source": "*I am interested in data science because I consider it the next step in my professional skill development, and professional orientation. I'm also very keen of the Python language, and I think, that data science is the best way for me to implement and improve my Python skills.*"
        },
        {
            "cell_type": "markdown",
            "metadata": {},
            "source": "### The following code displays the sum of two variables with numeric values:\n"
        },
        {
            "cell_type": "code",
            "execution_count": 5,
            "metadata": {},
            "outputs": [
                {
                    "name": "stdout",
                    "output_type": "stream",
                    "text": "37\n"
                }
            ],
            "source": "a = 22\nb = 15\nprint(a + b)"
        },
        {
            "attachments": {},
            "cell_type": "markdown",
            "metadata": {},
            "source": "\n- bulletedListItem1\n- bulletedListItem2\n- bulletedListItem3\n\n***\n\n<ol>\n<li>numberedListItem1</li>\n<li>numberedListItem2</li>\n<li>numberedListItem3</li>\n</ol>\n\n***\n\n> blocked quote\n\n***\n\n<s>strikeThrough</s>"
        }
    ],
    "metadata": {
        "kernelspec": {
            "display_name": "Python 3.9",
            "language": "python",
            "name": "python3"
        },
        "language_info": {
            "codemirror_mode": {
                "name": "ipython",
                "version": 3
            },
            "file_extension": ".py",
            "mimetype": "text/x-python",
            "name": "python",
            "nbconvert_exporter": "python",
            "pygments_lexer": "ipython3",
            "version": "3.9.12"
        }
    },
    "nbformat": 4,
    "nbformat_minor": 1
}